{
 "cells": [
  {
   "cell_type": "code",
   "execution_count": 3,
   "metadata": {
    "tags": []
   },
   "outputs": [],
   "source": [
    "import pandas as pd"
   ]
  },
  {
   "cell_type": "code",
   "execution_count": 4,
   "metadata": {},
   "outputs": [],
   "source": [
    "# CHANGE ME: dilution_factor changes based on experiment\n",
    "\n",
    "dilution_factor = float(input(\"enter dilution factor. E.g. 1:1000 dilution enter '1000'\"))\n",
    "dilution_factor = dilution_factor / 1000"
   ]
  },
  {
   "cell_type": "code",
   "execution_count": 10,
   "metadata": {
    "tags": []
   },
   "outputs": [],
   "source": [
    "# CHANGE ME: point plate_1 to the csv file coming from the bio-rad thermal cycler\n",
    "\n",
    "plate_1 = pd.read_csv(\"\", header = 19) \n",
    "plate_1[\"starting_quantity_dilution_corrected\"] = plate_1[\"Starting Quantity (SQ)\"] * dilution_factor\n",
    "plate_1 = plate_1[12:96]\n",
    "plate_1_index = pd.read_csv(\"~/Documents/code/git_hub/kapa_quantification_to_pooling/plate_1_index.csv\")\n",
    "plate_1 = pd.merge(plate_1, plate_1_index, on = \"Well\")"
   ]
  },
  {
   "cell_type": "code",
   "execution_count": 11,
   "metadata": {
    "tags": []
   },
   "outputs": [],
   "source": [
    "# CHANGE ME: point plate_2 to the csv file coming from the bio-rad thermal cycler\n",
    "\n",
    "plate_2 = pd.read_csv(\"\", header = 19) \n",
    "plate_2[\"starting_quantity_dilution_corrected\"] = plate_2[\"Starting Quantity (SQ)\"] * dilution_factor\n",
    "plate_2 = plate_2[12:96]\n",
    "plate_2_index = pd.read_csv(\"~/Documents/code/git_hub/kapa_quantification_to_pooling/plate_2_index.csv\")\n",
    "plate_2 = pd.merge(plate_2, plate_2_index, on = \"Well\")"
   ]
  },
  {
   "cell_type": "code",
   "execution_count": 12,
   "metadata": {},
   "outputs": [],
   "source": [
    "sample_plate = pd.DataFrame(columns = [\"well\", \"concentration_nm\"])\n",
    "sample_plate.well = [ \n",
    "'A01', 'A02', 'A03', 'A04', 'A05', 'A06', 'A07', 'A08', 'A09', 'A10', 'A11', 'A12',\n",
    "'B01', 'B02', 'B03', 'B04', 'B05', 'B06', 'B07', 'B08', 'B09', 'B10', 'B11', 'B12',\n",
    "'C01', 'C02', 'C03', 'C04', 'C05', 'C06', 'C07', 'C08', 'C09', 'C10', 'C11', 'C12',\n",
    "'D01', 'D02', 'D03', 'D04', 'D05', 'D06', 'D07', 'D08', 'D09', 'D10', 'D11', 'D12',\n",
    "'E01', 'E02', 'E03', 'E04', 'E05', 'E06', 'E07', 'E08', 'E09', 'E10', 'E11', 'E12',\n",
    "'F01', 'F02', 'F03', 'F04', 'F05', 'F06', 'F07', 'F08', 'F09', 'F10', 'F11', 'F12',\n",
    "'G01', 'G02', 'G03', 'G04', 'G05', 'G06', 'G07', 'G08', 'G09', 'G10', 'G11', 'G12',\n",
    "'H01', 'H02', 'H03', 'H04', 'H05', 'H06', 'H07', 'H08', 'H09', 'H10', 'H11', 'H12'\n",
    "]"
   ]
  },
  {
   "cell_type": "code",
   "execution_count": 15,
   "metadata": {},
   "outputs": [],
   "source": [
    "# fill in samples in row A\n",
    "\n",
    "x = 0\n",
    "y = 0\n",
    "z = 12\n",
    "while x <= 11:\n",
    "    sample_plate.concentration_nm[x] = (plate_1.starting_quantity_dilution_corrected[y] + plate_1.starting_quantity_dilution_corrected[z]) / 2\n",
    "    x += 1\n",
    "    y += 1\n",
    "    z += 1\n",
    "\n",
    "# fill in samples in row B\n",
    "\n",
    "x = 12\n",
    "y = 24\n",
    "z = 36\n",
    "while x <= 23:\n",
    "    sample_plate.concentration_nm[x] = (plate_1.starting_quantity_dilution_corrected[y] + plate_1.starting_quantity_dilution_corrected[z]) / 2\n",
    "    x += 1\n",
    "    y += 1\n",
    "    z += 1\n",
    "\n",
    "# fill in samples in row C\n",
    "\n",
    "x = 24\n",
    "y = 48\n",
    "z = 60\n",
    "while x <= 35:\n",
    "    sample_plate.concentration_nm[x] = (plate_1.starting_quantity_dilution_corrected[y] + plate_1.starting_quantity_dilution_corrected[z]) / 2\n",
    "    x += 1\n",
    "    y += 1\n",
    "    z += 1\n",
    "\n",
    "# fill in samples in row D\n",
    "\n",
    "x = 36\n",
    "y = 72\n",
    "while x <= 47:\n",
    "    sample_plate.concentration_nm[x] = plate_1.starting_quantity_dilution_corrected[y]\n",
    "    x += 1\n",
    "    y += 1"
   ]
  },
  {
   "cell_type": "code",
   "execution_count": 17,
   "metadata": {},
   "outputs": [],
   "source": [
    "# fill in samples in row E\n",
    "\n",
    "x = 48\n",
    "y = 0\n",
    "z = 12\n",
    "while x <= 59:\n",
    "    sample_plate.concentration_nm[x] = (plate_2.starting_quantity_dilution_corrected[y] + plate_2.starting_quantity_dilution_corrected[z]) / 2\n",
    "    x += 1\n",
    "    y += 1\n",
    "    z += 1\n",
    "\n",
    "# fill in samples in row F\n",
    "\n",
    "x = 60\n",
    "y = 24\n",
    "z = 36\n",
    "while x <= 71:\n",
    "    sample_plate.concentration_nm[x] = (plate_2.starting_quantity_dilution_corrected[y] + plate_2.starting_quantity_dilution_corrected[z]) / 2\n",
    "    x += 1\n",
    "    y += 1\n",
    "    z += 1\n",
    "\n",
    "# fill in samples in row G\n",
    "\n",
    "x = 72\n",
    "y = 48\n",
    "z = 60\n",
    "while x <= 83:\n",
    "    sample_plate.concentration_nm[x] = (plate_2.starting_quantity_dilution_corrected[y] + plate_2.starting_quantity_dilution_corrected[z]) / 2\n",
    "    x += 1\n",
    "    y += 1\n",
    "    z += 1\n",
    "\n",
    "# fill in samples in row H\n",
    "\n",
    "x = 84\n",
    "y = 72\n",
    "while x <= 95:\n",
    "    sample_plate.concentration_nm[x] = plate_2.starting_quantity_dilution_corrected[y]\n",
    "    x += 1\n",
    "    y += 1"
   ]
  },
  {
   "cell_type": "code",
   "execution_count": 18,
   "metadata": {},
   "outputs": [],
   "source": [
    "# Illumina pooling calculator only accepts libraries with concentration greater than 0.5 nm\n",
    "\n",
    "sample_plate_for_pooling = sample_plate[sample_plate.concentration_nm > 0.5]"
   ]
  },
  {
   "cell_type": "code",
   "execution_count": 19,
   "metadata": {},
   "outputs": [],
   "source": [
    "# CHANGE ME: point sample_plate_for_pooling to the experiment's directory for future reference\n",
    "\n",
    "sample_plate_for_pooling.to_csv(r\"\", index = False)"
   ]
  }
 ],
 "metadata": {
  "kernelspec": {
   "display_name": "Python 3.8.8 ('base')",
   "language": "python",
   "name": "python3"
  },
  "language_info": {
   "codemirror_mode": {
    "name": "ipython",
    "version": 3
   },
   "file_extension": ".py",
   "mimetype": "text/x-python",
   "name": "python",
   "nbconvert_exporter": "python",
   "pygments_lexer": "ipython3",
   "version": "3.8.8"
  },
  "orig_nbformat": 2,
  "vscode": {
   "interpreter": {
    "hash": "4b1d709454758155bdbdfdae4f21284fdbfe3f291544079d2527636be25f1e41"
   }
  }
 },
 "nbformat": 4,
 "nbformat_minor": 2
}
